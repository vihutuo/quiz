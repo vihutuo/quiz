{
 "cells": [
  {
   "cell_type": "code",
   "execution_count": null,
   "id": "88645798",
   "metadata": {
    "tags": []
   },
   "outputs": [],
   "source": [
    "import colorama\n",
    "from IPython.display import display,HTML\n",
    "\n",
    "#colorama.init(autoreset=False)\n",
    "\n",
    "#colors=(colorama.Fore.RED,colorama.Fore.GREEN,colorama.Fore.BLUE,colorama.Fore.YELLOW,colorama.Fore.CYAN)\n",
    "colors=(\"red\",\"green\",\"blue\",\"purple\",\"magenta\",\"#F6BE00\")\n",
    "\n",
    "def SetUpTeams():\n",
    "    Teams=[]\n",
    "    teams_count= int(input(\"Enter number of teams :\"))\n",
    "    for i in range(teams_count):\n",
    "        team_name = input(\"Enter team name : \")\n",
    "        Team={}\n",
    "        Team[\"team_name\"] =  team_name           \n",
    "        Team[\"index\"] = i\n",
    "        Team[\"score\"] = 0\n",
    "        Team[\"color\"] = colors[i% len(colors)] \n",
    "        Teams.append(Team)\n",
    "    return Teams    \n",
    "\n",
    "        \n",
    "Teams = SetUpTeams()"
   ]
  },
  {
   "cell_type": "code",
   "execution_count": null,
   "id": "4cf3a493",
   "metadata": {
    "tags": []
   },
   "outputs": [],
   "source": [
    "import random\n",
    "\n",
    "def LoadQuestions(file_name):\n",
    "    questions=[]\n",
    "    with open(file_name,\"r\") as f:\n",
    "        L1=f.read().splitlines()\n",
    "    for x in L1:\n",
    "        q=x.split(\"|\")\n",
    "        questions.append(q)\n",
    "    \n",
    "\n",
    "    return questions    \n",
    "Questions = LoadQuestions(\"quiz_questions.txt\")        \n",
    "random.shuffle(Questions)\n",
    "i=1\n",
    "for q in Questions:\n",
    "    print(i,\".\",q[1])\n",
    "    i=i+1"
   ]
  },
  {
   "cell_type": "code",
   "execution_count": 17,
   "id": "70b6b495",
   "metadata": {
    "tags": []
   },
   "outputs": [
    {
     "data": {
      "text/html": [
       "<span style='color:red;font-family:Courier New;font-weight:bold;'>Team1 : 30&nbsp;&nbsp;&nbsp;</span><span style='color:green;font-family:Courier New;font-weight:bold;'>Team2 : 20&nbsp;&nbsp;&nbsp;</span><span style='color:blue;font-family:Courier New;font-weight:bold;'>Team3 : 20&nbsp;&nbsp;&nbsp;</span><span style='color:purple;font-family:Courier New;font-weight:bold;'>Team five : 15&nbsp;&nbsp;&nbsp;</span>"
      ],
      "text/plain": [
       "<IPython.core.display.HTML object>"
      ]
     },
     "metadata": {},
     "output_type": "display_data"
    }
   ],
   "source": [
    "from IPython.display import HTML,display\n",
    "def ResetScores(Teams):\n",
    "     for Team in Teams:   \n",
    "       \n",
    "        Team[\"score\"]=0\n",
    "        \n",
    "def PrintTeams(Teams):\n",
    "    s=\"\"\n",
    "    for Team in Teams:   \n",
    "        color=Team[\"color\"]\n",
    "        t=Team[\"team_name\"] + \" : \" +  str(Team[\"score\"])\n",
    "        s+=f\"<span style='color:{color};font-family:Courier New;font-weight:bold;'>{t}&nbsp;&nbsp;&nbsp;</span>\"\n",
    "    display(HTML(s))      \n",
    "      \n",
    "PrintTeams(Teams)   "
   ]
  },
  {
   "cell_type": "code",
   "execution_count": 19,
   "id": "41d77e18",
   "metadata": {
    "tags": []
   },
   "outputs": [],
   "source": [
    "question_index=0\n",
    "team_index=0\n",
    "ResetScores(Teams)\n",
    "import matplotlib.pyplot as plt\n",
    "def GetTeamColors(Teams):\n",
    "    colors=[]\n",
    "    for t in Teams:\n",
    "        colors.append(t[\"color\"])\n",
    "    return colors\n",
    "def GetTeamScores(Teams):\n",
    "    scores=[]\n",
    "    for t in Teams:\n",
    "        scores.append(t[\"score\"])\n",
    "    print(scores)    \n",
    "    return scores  \n",
    "def DisplayBarScores(Teams):\n",
    "    x=[]\n",
    "    y=[]\n",
    "    for t in Teams:\n",
    "        x.append(t[\"team_name\"])\n",
    "        y.append(t[\"score\"])\n",
    "    fig, ax = plt.subplots()\n",
    "    bars = ax.barh(x, y,color=GetTeamColors(Teams))\n",
    "    ax.bar_label(bars)    \n",
    "    #plt.barh(x, y,color=GetTeamColors(Teams),label=\"pp\") \n",
    "    plt.show()    \n",
    "    \n",
    "#DisplayBarScores(Teams)"
   ]
  },
  {
   "cell_type": "code",
   "execution_count": 20,
   "id": "6f7a503b",
   "metadata": {
    "tags": []
   },
   "outputs": [
    {
     "data": {
      "image/png": "[encoded data removed]",
      "text/plain": [
       "<Figure size 640x480 with 1 Axes>"
      ]
     },
     "metadata": {},
     "output_type": "display_data"
    }
   ],
   "source": [
    "import sys\n",
    "from IPython.display import clear_output,HTML\n",
    "correct_points = 5\n",
    "def PrintQuestion(index):\n",
    "    question = GetQuestion(index)\n",
    "    qno=str(index+1)+\".\"\n",
    "    print(qno,question)\n",
    "    typ = Questions[index][0]\n",
    "    choice1 = Questions[index][2]\n",
    "    choice2 = Questions[index][3]\n",
    "    choice3 = Questions[index][4]\n",
    "    choice4 = Questions[index][5]\n",
    "    if typ == \"1\": #MCQ\n",
    "        \n",
    "        print(\"\\n1.\",choice1)\n",
    "        print(\"2.\",choice2)\n",
    "        print(\"3.\",choice3)\n",
    "        print(\"4.\",choice4)\n",
    "        \n",
    "        \n",
    "def GetQuestion(index):\n",
    "    return Questions[index][1]\n",
    "def GetQuestionAnswer(index):\n",
    "    return Questions[index][6].strip().lower()\n",
    "def AddTeamScore(index,score):\n",
    "    Teams[index][\"score\"]+=score\n",
    "def GetTeamColor(index):\n",
    "    Teams[index][\"color\"]\n",
    "\n",
    "proceed=\"y\"\n",
    "while(proceed!=\"n\"):\n",
    "    clear_output()\n",
    "    display(HTML(\"<hr>\"))   \n",
    "    PrintTeams(Teams)   \n",
    "    display(HTML(\"<hr>\"))   \n",
    "    team_color=GetTeamColor(team_index)\n",
    "    team_name=Teams[team_index][\"team_name\"]\n",
    "    s=f\"<H3 style='color:{team_color};'>{team_name}</H3>\"\n",
    "    \n",
    "    display(HTML(s))  \n",
    "    #print(\"Question for : \" , Teams[team_index][\"team_name\"])\n",
    "    #print(\"\\n\")\n",
    "    PrintQuestion(question_index)\n",
    "    display(HTML(\"<hr>\"))\n",
    "    #print(\"\",flush=True)\n",
    "    sys.stdout.flush()\n",
    "\n",
    "    pass\n",
    "    answer=input(\"Enter answer : \").strip().lower()\n",
    "    correct_answer=GetQuestionAnswer(question_index)\n",
    "    if answer==correct_answer:\n",
    "        print(\"✅ Correct\")\n",
    "        \n",
    "        AddTeamScore(team_index,correct_points)\n",
    "    else:\n",
    "        print(\"❌ Sorry Incorrect\")\n",
    "        print(\"Correct Answer : \",correct_answer)\n",
    "    question_index +=1\n",
    "    team_index+=1\n",
    "    team_index %= len(Teams)\n",
    "    #DisplayBarScores(Teams)\n",
    "    display(HTML(\"<hr>\"))\n",
    "    if question_index >= len(Questions)  :\n",
    "        input(\"End of quiz. Press any key to continue\")    \n",
    "        break;\n",
    "    proceed=input(\"Proceed ?(y/n/s)\")\n",
    "    if(proceed==\"s\"):\n",
    "          clear_output()\n",
    "          DisplayBarScores(Teams)\n",
    "          proceed=input(\"Proceed ?(y/n/s)\")    \n",
    "    \n",
    "clear_output()\n",
    "DisplayBarScores(Teams)\n",
    "\n",
    "    \n"
   ]
  },
  {
   "cell_type": "code",
   "execution_count": null,
   "id": "5fb0bdbf-9c8a-4bca-a8d6-3f6d1cb857c0",
   "metadata": {},
   "outputs": [],
   "source": []
  }
 ],
 "metadata": {
  "kernelspec": {
   "display_name": "Python 3 (ipykernel)",
   "language": "python",
   "name": "python3"
  },
  "language_info": {
   "codemirror_mode": {
    "name": "ipython",
    "version": 3
   },
   "file_extension": ".py",
   "mimetype": "text/x-python",
   "name": "python",
   "nbconvert_exporter": "python",
   "pygments_lexer": "ipython3",
   "version": "3.9.13"
  }
 },
 "nbformat": 4,
 "nbformat_minor": 5
}
